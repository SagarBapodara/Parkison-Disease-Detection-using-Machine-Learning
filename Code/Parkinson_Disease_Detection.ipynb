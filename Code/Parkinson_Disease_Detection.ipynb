{
  "nbformat": 4,
  "nbformat_minor": 0,
  "metadata": {
    "colab": {
      "name": "Parkinson_Disease_Detection.ipynb",
      "provenance": [],
      "collapsed_sections": []
    },
    "kernelspec": {
      "name": "python3",
      "display_name": "Python 3"
    },
    "language_info": {
      "name": "python"
    }
  },
  "cells": [
    {
      "cell_type": "markdown",
      "metadata": {
        "id": "No7f3celRw--"
      },
      "source": [
        "## Importing Necessary Python Libraries"
      ]
    },
    {
      "cell_type": "code",
      "metadata": {
        "colab": {
          "base_uri": "https://localhost:8080/"
        },
        "id": "J8Dyva6yRok5",
        "outputId": "65c5ceb4-e247-4dc8-f893-fe57fb6de41d"
      },
      "source": [
        "import os\n",
        "import pandas as pd\n",
        "import numpy as np\n",
        "import seaborn as sns\n",
        "import matplotlib.pyplot as plt\n",
        "from sklearn.model_selection import train_test_split\n",
        "from sklearn.preprocessing import StandardScaler\n",
        "from sklearn import svm\n",
        "from sklearn.metrics import accuracy_score\n",
        "print(\"Libraries imported\")"
      ],
      "execution_count": null,
      "outputs": [
        {
          "output_type": "stream",
          "name": "stdout",
          "text": [
            "Libraries imported\n"
          ]
        }
      ]
    },
    {
      "cell_type": "markdown",
      "metadata": {
        "id": "sDWGEtFkTUCR"
      },
      "source": [
        "## Dataset "
      ]
    },
    {
      "cell_type": "code",
      "metadata": {
        "colab": {
          "base_uri": "https://localhost:8080/",
          "height": 377
        },
        "id": "JbBOeDKNTV1Q",
        "outputId": "43c789e5-48ad-42d1-8d79-ce0db046609f"
      },
      "source": [
        "parkinson_data = pd.read_csv(\"parkinsons.csv\")\n",
        "parkinson_data.head(10) #printing first 10 rows of dataframe"
      ],
      "execution_count": null,
      "outputs": [
        {
          "output_type": "execute_result",
          "data": {
            "text/html": [
              "<div>\n",
              "<style scoped>\n",
              "    .dataframe tbody tr th:only-of-type {\n",
              "        vertical-align: middle;\n",
              "    }\n",
              "\n",
              "    .dataframe tbody tr th {\n",
              "        vertical-align: top;\n",
              "    }\n",
              "\n",
              "    .dataframe thead th {\n",
              "        text-align: right;\n",
              "    }\n",
              "</style>\n",
              "<table border=\"1\" class=\"dataframe\">\n",
              "  <thead>\n",
              "    <tr style=\"text-align: right;\">\n",
              "      <th></th>\n",
              "      <th>name</th>\n",
              "      <th>MDVP:Fo(Hz)</th>\n",
              "      <th>MDVP:Fhi(Hz)</th>\n",
              "      <th>MDVP:Flo(Hz)</th>\n",
              "      <th>MDVP:Jitter(%)</th>\n",
              "      <th>MDVP:Jitter(Abs)</th>\n",
              "      <th>MDVP:RAP</th>\n",
              "      <th>MDVP:PPQ</th>\n",
              "      <th>Jitter:DDP</th>\n",
              "      <th>MDVP:Shimmer</th>\n",
              "      <th>MDVP:Shimmer(dB)</th>\n",
              "      <th>Shimmer:APQ3</th>\n",
              "      <th>Shimmer:APQ5</th>\n",
              "      <th>MDVP:APQ</th>\n",
              "      <th>Shimmer:DDA</th>\n",
              "      <th>NHR</th>\n",
              "      <th>HNR</th>\n",
              "      <th>status</th>\n",
              "      <th>RPDE</th>\n",
              "      <th>DFA</th>\n",
              "      <th>spread1</th>\n",
              "      <th>spread2</th>\n",
              "      <th>D2</th>\n",
              "      <th>PPE</th>\n",
              "    </tr>\n",
              "  </thead>\n",
              "  <tbody>\n",
              "    <tr>\n",
              "      <th>0</th>\n",
              "      <td>phon_R01_S01_1</td>\n",
              "      <td>119.992</td>\n",
              "      <td>157.302</td>\n",
              "      <td>74.997</td>\n",
              "      <td>0.00784</td>\n",
              "      <td>0.00007</td>\n",
              "      <td>0.00370</td>\n",
              "      <td>0.00554</td>\n",
              "      <td>0.01109</td>\n",
              "      <td>0.04374</td>\n",
              "      <td>0.426</td>\n",
              "      <td>0.02182</td>\n",
              "      <td>0.03130</td>\n",
              "      <td>0.02971</td>\n",
              "      <td>0.06545</td>\n",
              "      <td>0.02211</td>\n",
              "      <td>21.033</td>\n",
              "      <td>1</td>\n",
              "      <td>0.414783</td>\n",
              "      <td>0.815285</td>\n",
              "      <td>-4.813031</td>\n",
              "      <td>0.266482</td>\n",
              "      <td>2.301442</td>\n",
              "      <td>0.284654</td>\n",
              "    </tr>\n",
              "    <tr>\n",
              "      <th>1</th>\n",
              "      <td>phon_R01_S01_2</td>\n",
              "      <td>122.400</td>\n",
              "      <td>148.650</td>\n",
              "      <td>113.819</td>\n",
              "      <td>0.00968</td>\n",
              "      <td>0.00008</td>\n",
              "      <td>0.00465</td>\n",
              "      <td>0.00696</td>\n",
              "      <td>0.01394</td>\n",
              "      <td>0.06134</td>\n",
              "      <td>0.626</td>\n",
              "      <td>0.03134</td>\n",
              "      <td>0.04518</td>\n",
              "      <td>0.04368</td>\n",
              "      <td>0.09403</td>\n",
              "      <td>0.01929</td>\n",
              "      <td>19.085</td>\n",
              "      <td>1</td>\n",
              "      <td>0.458359</td>\n",
              "      <td>0.819521</td>\n",
              "      <td>-4.075192</td>\n",
              "      <td>0.335590</td>\n",
              "      <td>2.486855</td>\n",
              "      <td>0.368674</td>\n",
              "    </tr>\n",
              "    <tr>\n",
              "      <th>2</th>\n",
              "      <td>phon_R01_S01_3</td>\n",
              "      <td>116.682</td>\n",
              "      <td>131.111</td>\n",
              "      <td>111.555</td>\n",
              "      <td>0.01050</td>\n",
              "      <td>0.00009</td>\n",
              "      <td>0.00544</td>\n",
              "      <td>0.00781</td>\n",
              "      <td>0.01633</td>\n",
              "      <td>0.05233</td>\n",
              "      <td>0.482</td>\n",
              "      <td>0.02757</td>\n",
              "      <td>0.03858</td>\n",
              "      <td>0.03590</td>\n",
              "      <td>0.08270</td>\n",
              "      <td>0.01309</td>\n",
              "      <td>20.651</td>\n",
              "      <td>1</td>\n",
              "      <td>0.429895</td>\n",
              "      <td>0.825288</td>\n",
              "      <td>-4.443179</td>\n",
              "      <td>0.311173</td>\n",
              "      <td>2.342259</td>\n",
              "      <td>0.332634</td>\n",
              "    </tr>\n",
              "    <tr>\n",
              "      <th>3</th>\n",
              "      <td>phon_R01_S01_4</td>\n",
              "      <td>116.676</td>\n",
              "      <td>137.871</td>\n",
              "      <td>111.366</td>\n",
              "      <td>0.00997</td>\n",
              "      <td>0.00009</td>\n",
              "      <td>0.00502</td>\n",
              "      <td>0.00698</td>\n",
              "      <td>0.01505</td>\n",
              "      <td>0.05492</td>\n",
              "      <td>0.517</td>\n",
              "      <td>0.02924</td>\n",
              "      <td>0.04005</td>\n",
              "      <td>0.03772</td>\n",
              "      <td>0.08771</td>\n",
              "      <td>0.01353</td>\n",
              "      <td>20.644</td>\n",
              "      <td>1</td>\n",
              "      <td>0.434969</td>\n",
              "      <td>0.819235</td>\n",
              "      <td>-4.117501</td>\n",
              "      <td>0.334147</td>\n",
              "      <td>2.405554</td>\n",
              "      <td>0.368975</td>\n",
              "    </tr>\n",
              "    <tr>\n",
              "      <th>4</th>\n",
              "      <td>phon_R01_S01_5</td>\n",
              "      <td>116.014</td>\n",
              "      <td>141.781</td>\n",
              "      <td>110.655</td>\n",
              "      <td>0.01284</td>\n",
              "      <td>0.00011</td>\n",
              "      <td>0.00655</td>\n",
              "      <td>0.00908</td>\n",
              "      <td>0.01966</td>\n",
              "      <td>0.06425</td>\n",
              "      <td>0.584</td>\n",
              "      <td>0.03490</td>\n",
              "      <td>0.04825</td>\n",
              "      <td>0.04465</td>\n",
              "      <td>0.10470</td>\n",
              "      <td>0.01767</td>\n",
              "      <td>19.649</td>\n",
              "      <td>1</td>\n",
              "      <td>0.417356</td>\n",
              "      <td>0.823484</td>\n",
              "      <td>-3.747787</td>\n",
              "      <td>0.234513</td>\n",
              "      <td>2.332180</td>\n",
              "      <td>0.410335</td>\n",
              "    </tr>\n",
              "    <tr>\n",
              "      <th>5</th>\n",
              "      <td>phon_R01_S01_6</td>\n",
              "      <td>120.552</td>\n",
              "      <td>131.162</td>\n",
              "      <td>113.787</td>\n",
              "      <td>0.00968</td>\n",
              "      <td>0.00008</td>\n",
              "      <td>0.00463</td>\n",
              "      <td>0.00750</td>\n",
              "      <td>0.01388</td>\n",
              "      <td>0.04701</td>\n",
              "      <td>0.456</td>\n",
              "      <td>0.02328</td>\n",
              "      <td>0.03526</td>\n",
              "      <td>0.03243</td>\n",
              "      <td>0.06985</td>\n",
              "      <td>0.01222</td>\n",
              "      <td>21.378</td>\n",
              "      <td>1</td>\n",
              "      <td>0.415564</td>\n",
              "      <td>0.825069</td>\n",
              "      <td>-4.242867</td>\n",
              "      <td>0.299111</td>\n",
              "      <td>2.187560</td>\n",
              "      <td>0.357775</td>\n",
              "    </tr>\n",
              "    <tr>\n",
              "      <th>6</th>\n",
              "      <td>phon_R01_S02_1</td>\n",
              "      <td>120.267</td>\n",
              "      <td>137.244</td>\n",
              "      <td>114.820</td>\n",
              "      <td>0.00333</td>\n",
              "      <td>0.00003</td>\n",
              "      <td>0.00155</td>\n",
              "      <td>0.00202</td>\n",
              "      <td>0.00466</td>\n",
              "      <td>0.01608</td>\n",
              "      <td>0.140</td>\n",
              "      <td>0.00779</td>\n",
              "      <td>0.00937</td>\n",
              "      <td>0.01351</td>\n",
              "      <td>0.02337</td>\n",
              "      <td>0.00607</td>\n",
              "      <td>24.886</td>\n",
              "      <td>1</td>\n",
              "      <td>0.596040</td>\n",
              "      <td>0.764112</td>\n",
              "      <td>-5.634322</td>\n",
              "      <td>0.257682</td>\n",
              "      <td>1.854785</td>\n",
              "      <td>0.211756</td>\n",
              "    </tr>\n",
              "    <tr>\n",
              "      <th>7</th>\n",
              "      <td>phon_R01_S02_2</td>\n",
              "      <td>107.332</td>\n",
              "      <td>113.840</td>\n",
              "      <td>104.315</td>\n",
              "      <td>0.00290</td>\n",
              "      <td>0.00003</td>\n",
              "      <td>0.00144</td>\n",
              "      <td>0.00182</td>\n",
              "      <td>0.00431</td>\n",
              "      <td>0.01567</td>\n",
              "      <td>0.134</td>\n",
              "      <td>0.00829</td>\n",
              "      <td>0.00946</td>\n",
              "      <td>0.01256</td>\n",
              "      <td>0.02487</td>\n",
              "      <td>0.00344</td>\n",
              "      <td>26.892</td>\n",
              "      <td>1</td>\n",
              "      <td>0.637420</td>\n",
              "      <td>0.763262</td>\n",
              "      <td>-6.167603</td>\n",
              "      <td>0.183721</td>\n",
              "      <td>2.064693</td>\n",
              "      <td>0.163755</td>\n",
              "    </tr>\n",
              "    <tr>\n",
              "      <th>8</th>\n",
              "      <td>phon_R01_S02_3</td>\n",
              "      <td>95.730</td>\n",
              "      <td>132.068</td>\n",
              "      <td>91.754</td>\n",
              "      <td>0.00551</td>\n",
              "      <td>0.00006</td>\n",
              "      <td>0.00293</td>\n",
              "      <td>0.00332</td>\n",
              "      <td>0.00880</td>\n",
              "      <td>0.02093</td>\n",
              "      <td>0.191</td>\n",
              "      <td>0.01073</td>\n",
              "      <td>0.01277</td>\n",
              "      <td>0.01717</td>\n",
              "      <td>0.03218</td>\n",
              "      <td>0.01070</td>\n",
              "      <td>21.812</td>\n",
              "      <td>1</td>\n",
              "      <td>0.615551</td>\n",
              "      <td>0.773587</td>\n",
              "      <td>-5.498678</td>\n",
              "      <td>0.327769</td>\n",
              "      <td>2.322511</td>\n",
              "      <td>0.231571</td>\n",
              "    </tr>\n",
              "    <tr>\n",
              "      <th>9</th>\n",
              "      <td>phon_R01_S02_4</td>\n",
              "      <td>95.056</td>\n",
              "      <td>120.103</td>\n",
              "      <td>91.226</td>\n",
              "      <td>0.00532</td>\n",
              "      <td>0.00006</td>\n",
              "      <td>0.00268</td>\n",
              "      <td>0.00332</td>\n",
              "      <td>0.00803</td>\n",
              "      <td>0.02838</td>\n",
              "      <td>0.255</td>\n",
              "      <td>0.01441</td>\n",
              "      <td>0.01725</td>\n",
              "      <td>0.02444</td>\n",
              "      <td>0.04324</td>\n",
              "      <td>0.01022</td>\n",
              "      <td>21.862</td>\n",
              "      <td>1</td>\n",
              "      <td>0.547037</td>\n",
              "      <td>0.798463</td>\n",
              "      <td>-5.011879</td>\n",
              "      <td>0.325996</td>\n",
              "      <td>2.432792</td>\n",
              "      <td>0.271362</td>\n",
              "    </tr>\n",
              "  </tbody>\n",
              "</table>\n",
              "</div>"
            ],
            "text/plain": [
              "             name  MDVP:Fo(Hz)  MDVP:Fhi(Hz)  ...   spread2        D2       PPE\n",
              "0  phon_R01_S01_1      119.992       157.302  ...  0.266482  2.301442  0.284654\n",
              "1  phon_R01_S01_2      122.400       148.650  ...  0.335590  2.486855  0.368674\n",
              "2  phon_R01_S01_3      116.682       131.111  ...  0.311173  2.342259  0.332634\n",
              "3  phon_R01_S01_4      116.676       137.871  ...  0.334147  2.405554  0.368975\n",
              "4  phon_R01_S01_5      116.014       141.781  ...  0.234513  2.332180  0.410335\n",
              "5  phon_R01_S01_6      120.552       131.162  ...  0.299111  2.187560  0.357775\n",
              "6  phon_R01_S02_1      120.267       137.244  ...  0.257682  1.854785  0.211756\n",
              "7  phon_R01_S02_2      107.332       113.840  ...  0.183721  2.064693  0.163755\n",
              "8  phon_R01_S02_3       95.730       132.068  ...  0.327769  2.322511  0.231571\n",
              "9  phon_R01_S02_4       95.056       120.103  ...  0.325996  2.432792  0.271362\n",
              "\n",
              "[10 rows x 24 columns]"
            ]
          },
          "metadata": {},
          "execution_count": 15
        }
      ]
    },
    {
      "cell_type": "code",
      "metadata": {
        "colab": {
          "base_uri": "https://localhost:8080/"
        },
        "id": "q3yR_s1eUuq9",
        "outputId": "45eaa8f5-9593-4382-a0cb-a70dcf4d3ed3"
      },
      "source": [
        "parkinson_data.shape #rows and columns in dataset"
      ],
      "execution_count": null,
      "outputs": [
        {
          "output_type": "execute_result",
          "data": {
            "text/plain": [
              "(195, 24)"
            ]
          },
          "metadata": {},
          "execution_count": 16
        }
      ]
    },
    {
      "cell_type": "code",
      "metadata": {
        "colab": {
          "base_uri": "https://localhost:8080/",
          "height": 315
        },
        "id": "CcmqlptqUx-x",
        "outputId": "b746bd1d-e1b9-4052-dfce-0df8814a3ea0"
      },
      "source": [
        "parkinson_data.describe() #statistical data about the dataset"
      ],
      "execution_count": null,
      "outputs": [
        {
          "output_type": "execute_result",
          "data": {
            "text/html": [
              "<div>\n",
              "<style scoped>\n",
              "    .dataframe tbody tr th:only-of-type {\n",
              "        vertical-align: middle;\n",
              "    }\n",
              "\n",
              "    .dataframe tbody tr th {\n",
              "        vertical-align: top;\n",
              "    }\n",
              "\n",
              "    .dataframe thead th {\n",
              "        text-align: right;\n",
              "    }\n",
              "</style>\n",
              "<table border=\"1\" class=\"dataframe\">\n",
              "  <thead>\n",
              "    <tr style=\"text-align: right;\">\n",
              "      <th></th>\n",
              "      <th>MDVP:Fo(Hz)</th>\n",
              "      <th>MDVP:Fhi(Hz)</th>\n",
              "      <th>MDVP:Flo(Hz)</th>\n",
              "      <th>MDVP:Jitter(%)</th>\n",
              "      <th>MDVP:Jitter(Abs)</th>\n",
              "      <th>MDVP:RAP</th>\n",
              "      <th>MDVP:PPQ</th>\n",
              "      <th>Jitter:DDP</th>\n",
              "      <th>MDVP:Shimmer</th>\n",
              "      <th>MDVP:Shimmer(dB)</th>\n",
              "      <th>Shimmer:APQ3</th>\n",
              "      <th>Shimmer:APQ5</th>\n",
              "      <th>MDVP:APQ</th>\n",
              "      <th>Shimmer:DDA</th>\n",
              "      <th>NHR</th>\n",
              "      <th>HNR</th>\n",
              "      <th>status</th>\n",
              "      <th>RPDE</th>\n",
              "      <th>DFA</th>\n",
              "      <th>spread1</th>\n",
              "      <th>spread2</th>\n",
              "      <th>D2</th>\n",
              "      <th>PPE</th>\n",
              "    </tr>\n",
              "  </thead>\n",
              "  <tbody>\n",
              "    <tr>\n",
              "      <th>count</th>\n",
              "      <td>195.000000</td>\n",
              "      <td>195.000000</td>\n",
              "      <td>195.000000</td>\n",
              "      <td>195.000000</td>\n",
              "      <td>195.000000</td>\n",
              "      <td>195.000000</td>\n",
              "      <td>195.000000</td>\n",
              "      <td>195.000000</td>\n",
              "      <td>195.000000</td>\n",
              "      <td>195.000000</td>\n",
              "      <td>195.000000</td>\n",
              "      <td>195.000000</td>\n",
              "      <td>195.000000</td>\n",
              "      <td>195.000000</td>\n",
              "      <td>195.000000</td>\n",
              "      <td>195.000000</td>\n",
              "      <td>195.000000</td>\n",
              "      <td>195.000000</td>\n",
              "      <td>195.000000</td>\n",
              "      <td>195.000000</td>\n",
              "      <td>195.000000</td>\n",
              "      <td>195.000000</td>\n",
              "      <td>195.000000</td>\n",
              "    </tr>\n",
              "    <tr>\n",
              "      <th>mean</th>\n",
              "      <td>154.228641</td>\n",
              "      <td>197.104918</td>\n",
              "      <td>116.324631</td>\n",
              "      <td>0.006220</td>\n",
              "      <td>0.000044</td>\n",
              "      <td>0.003306</td>\n",
              "      <td>0.003446</td>\n",
              "      <td>0.009920</td>\n",
              "      <td>0.029709</td>\n",
              "      <td>0.282251</td>\n",
              "      <td>0.015664</td>\n",
              "      <td>0.017878</td>\n",
              "      <td>0.024081</td>\n",
              "      <td>0.046993</td>\n",
              "      <td>0.024847</td>\n",
              "      <td>21.885974</td>\n",
              "      <td>0.753846</td>\n",
              "      <td>0.498536</td>\n",
              "      <td>0.718099</td>\n",
              "      <td>-5.684397</td>\n",
              "      <td>0.226510</td>\n",
              "      <td>2.381826</td>\n",
              "      <td>0.206552</td>\n",
              "    </tr>\n",
              "    <tr>\n",
              "      <th>std</th>\n",
              "      <td>41.390065</td>\n",
              "      <td>91.491548</td>\n",
              "      <td>43.521413</td>\n",
              "      <td>0.004848</td>\n",
              "      <td>0.000035</td>\n",
              "      <td>0.002968</td>\n",
              "      <td>0.002759</td>\n",
              "      <td>0.008903</td>\n",
              "      <td>0.018857</td>\n",
              "      <td>0.194877</td>\n",
              "      <td>0.010153</td>\n",
              "      <td>0.012024</td>\n",
              "      <td>0.016947</td>\n",
              "      <td>0.030459</td>\n",
              "      <td>0.040418</td>\n",
              "      <td>4.425764</td>\n",
              "      <td>0.431878</td>\n",
              "      <td>0.103942</td>\n",
              "      <td>0.055336</td>\n",
              "      <td>1.090208</td>\n",
              "      <td>0.083406</td>\n",
              "      <td>0.382799</td>\n",
              "      <td>0.090119</td>\n",
              "    </tr>\n",
              "    <tr>\n",
              "      <th>min</th>\n",
              "      <td>88.333000</td>\n",
              "      <td>102.145000</td>\n",
              "      <td>65.476000</td>\n",
              "      <td>0.001680</td>\n",
              "      <td>0.000007</td>\n",
              "      <td>0.000680</td>\n",
              "      <td>0.000920</td>\n",
              "      <td>0.002040</td>\n",
              "      <td>0.009540</td>\n",
              "      <td>0.085000</td>\n",
              "      <td>0.004550</td>\n",
              "      <td>0.005700</td>\n",
              "      <td>0.007190</td>\n",
              "      <td>0.013640</td>\n",
              "      <td>0.000650</td>\n",
              "      <td>8.441000</td>\n",
              "      <td>0.000000</td>\n",
              "      <td>0.256570</td>\n",
              "      <td>0.574282</td>\n",
              "      <td>-7.964984</td>\n",
              "      <td>0.006274</td>\n",
              "      <td>1.423287</td>\n",
              "      <td>0.044539</td>\n",
              "    </tr>\n",
              "    <tr>\n",
              "      <th>25%</th>\n",
              "      <td>117.572000</td>\n",
              "      <td>134.862500</td>\n",
              "      <td>84.291000</td>\n",
              "      <td>0.003460</td>\n",
              "      <td>0.000020</td>\n",
              "      <td>0.001660</td>\n",
              "      <td>0.001860</td>\n",
              "      <td>0.004985</td>\n",
              "      <td>0.016505</td>\n",
              "      <td>0.148500</td>\n",
              "      <td>0.008245</td>\n",
              "      <td>0.009580</td>\n",
              "      <td>0.013080</td>\n",
              "      <td>0.024735</td>\n",
              "      <td>0.005925</td>\n",
              "      <td>19.198000</td>\n",
              "      <td>1.000000</td>\n",
              "      <td>0.421306</td>\n",
              "      <td>0.674758</td>\n",
              "      <td>-6.450096</td>\n",
              "      <td>0.174351</td>\n",
              "      <td>2.099125</td>\n",
              "      <td>0.137451</td>\n",
              "    </tr>\n",
              "    <tr>\n",
              "      <th>50%</th>\n",
              "      <td>148.790000</td>\n",
              "      <td>175.829000</td>\n",
              "      <td>104.315000</td>\n",
              "      <td>0.004940</td>\n",
              "      <td>0.000030</td>\n",
              "      <td>0.002500</td>\n",
              "      <td>0.002690</td>\n",
              "      <td>0.007490</td>\n",
              "      <td>0.022970</td>\n",
              "      <td>0.221000</td>\n",
              "      <td>0.012790</td>\n",
              "      <td>0.013470</td>\n",
              "      <td>0.018260</td>\n",
              "      <td>0.038360</td>\n",
              "      <td>0.011660</td>\n",
              "      <td>22.085000</td>\n",
              "      <td>1.000000</td>\n",
              "      <td>0.495954</td>\n",
              "      <td>0.722254</td>\n",
              "      <td>-5.720868</td>\n",
              "      <td>0.218885</td>\n",
              "      <td>2.361532</td>\n",
              "      <td>0.194052</td>\n",
              "    </tr>\n",
              "    <tr>\n",
              "      <th>75%</th>\n",
              "      <td>182.769000</td>\n",
              "      <td>224.205500</td>\n",
              "      <td>140.018500</td>\n",
              "      <td>0.007365</td>\n",
              "      <td>0.000060</td>\n",
              "      <td>0.003835</td>\n",
              "      <td>0.003955</td>\n",
              "      <td>0.011505</td>\n",
              "      <td>0.037885</td>\n",
              "      <td>0.350000</td>\n",
              "      <td>0.020265</td>\n",
              "      <td>0.022380</td>\n",
              "      <td>0.029400</td>\n",
              "      <td>0.060795</td>\n",
              "      <td>0.025640</td>\n",
              "      <td>25.075500</td>\n",
              "      <td>1.000000</td>\n",
              "      <td>0.587562</td>\n",
              "      <td>0.761881</td>\n",
              "      <td>-5.046192</td>\n",
              "      <td>0.279234</td>\n",
              "      <td>2.636456</td>\n",
              "      <td>0.252980</td>\n",
              "    </tr>\n",
              "    <tr>\n",
              "      <th>max</th>\n",
              "      <td>260.105000</td>\n",
              "      <td>592.030000</td>\n",
              "      <td>239.170000</td>\n",
              "      <td>0.033160</td>\n",
              "      <td>0.000260</td>\n",
              "      <td>0.021440</td>\n",
              "      <td>0.019580</td>\n",
              "      <td>0.064330</td>\n",
              "      <td>0.119080</td>\n",
              "      <td>1.302000</td>\n",
              "      <td>0.056470</td>\n",
              "      <td>0.079400</td>\n",
              "      <td>0.137780</td>\n",
              "      <td>0.169420</td>\n",
              "      <td>0.314820</td>\n",
              "      <td>33.047000</td>\n",
              "      <td>1.000000</td>\n",
              "      <td>0.685151</td>\n",
              "      <td>0.825288</td>\n",
              "      <td>-2.434031</td>\n",
              "      <td>0.450493</td>\n",
              "      <td>3.671155</td>\n",
              "      <td>0.527367</td>\n",
              "    </tr>\n",
              "  </tbody>\n",
              "</table>\n",
              "</div>"
            ],
            "text/plain": [
              "       MDVP:Fo(Hz)  MDVP:Fhi(Hz)  ...          D2         PPE\n",
              "count   195.000000    195.000000  ...  195.000000  195.000000\n",
              "mean    154.228641    197.104918  ...    2.381826    0.206552\n",
              "std      41.390065     91.491548  ...    0.382799    0.090119\n",
              "min      88.333000    102.145000  ...    1.423287    0.044539\n",
              "25%     117.572000    134.862500  ...    2.099125    0.137451\n",
              "50%     148.790000    175.829000  ...    2.361532    0.194052\n",
              "75%     182.769000    224.205500  ...    2.636456    0.252980\n",
              "max     260.105000    592.030000  ...    3.671155    0.527367\n",
              "\n",
              "[8 rows x 23 columns]"
            ]
          },
          "metadata": {},
          "execution_count": 17
        }
      ]
    },
    {
      "cell_type": "code",
      "metadata": {
        "colab": {
          "base_uri": "https://localhost:8080/"
        },
        "id": "0wupgrvsU442",
        "outputId": "d508ae34-ddc4-40db-ff2d-9ba9c6d7bb35"
      },
      "source": [
        "parkinson_data.isnull().sum() #checking for missing values"
      ],
      "execution_count": null,
      "outputs": [
        {
          "output_type": "execute_result",
          "data": {
            "text/plain": [
              "name                0\n",
              "MDVP:Fo(Hz)         0\n",
              "MDVP:Fhi(Hz)        0\n",
              "MDVP:Flo(Hz)        0\n",
              "MDVP:Jitter(%)      0\n",
              "MDVP:Jitter(Abs)    0\n",
              "MDVP:RAP            0\n",
              "MDVP:PPQ            0\n",
              "Jitter:DDP          0\n",
              "MDVP:Shimmer        0\n",
              "MDVP:Shimmer(dB)    0\n",
              "Shimmer:APQ3        0\n",
              "Shimmer:APQ5        0\n",
              "MDVP:APQ            0\n",
              "Shimmer:DDA         0\n",
              "NHR                 0\n",
              "HNR                 0\n",
              "status              0\n",
              "RPDE                0\n",
              "DFA                 0\n",
              "spread1             0\n",
              "spread2             0\n",
              "D2                  0\n",
              "PPE                 0\n",
              "dtype: int64"
            ]
          },
          "metadata": {},
          "execution_count": 18
        }
      ]
    },
    {
      "cell_type": "code",
      "metadata": {
        "colab": {
          "base_uri": "https://localhost:8080/"
        },
        "id": "yLCy88w5VoIH",
        "outputId": "36bd73fa-c81f-4006-809f-544aeec7601f"
      },
      "source": [
        "parkinson_data.info() #getting more info about the dataset"
      ],
      "execution_count": null,
      "outputs": [
        {
          "output_type": "stream",
          "name": "stdout",
          "text": [
            "<class 'pandas.core.frame.DataFrame'>\n",
            "RangeIndex: 195 entries, 0 to 194\n",
            "Data columns (total 24 columns):\n",
            " #   Column            Non-Null Count  Dtype  \n",
            "---  ------            --------------  -----  \n",
            " 0   name              195 non-null    object \n",
            " 1   MDVP:Fo(Hz)       195 non-null    float64\n",
            " 2   MDVP:Fhi(Hz)      195 non-null    float64\n",
            " 3   MDVP:Flo(Hz)      195 non-null    float64\n",
            " 4   MDVP:Jitter(%)    195 non-null    float64\n",
            " 5   MDVP:Jitter(Abs)  195 non-null    float64\n",
            " 6   MDVP:RAP          195 non-null    float64\n",
            " 7   MDVP:PPQ          195 non-null    float64\n",
            " 8   Jitter:DDP        195 non-null    float64\n",
            " 9   MDVP:Shimmer      195 non-null    float64\n",
            " 10  MDVP:Shimmer(dB)  195 non-null    float64\n",
            " 11  Shimmer:APQ3      195 non-null    float64\n",
            " 12  Shimmer:APQ5      195 non-null    float64\n",
            " 13  MDVP:APQ          195 non-null    float64\n",
            " 14  Shimmer:DDA       195 non-null    float64\n",
            " 15  NHR               195 non-null    float64\n",
            " 16  HNR               195 non-null    float64\n",
            " 17  status            195 non-null    int64  \n",
            " 18  RPDE              195 non-null    float64\n",
            " 19  DFA               195 non-null    float64\n",
            " 20  spread1           195 non-null    float64\n",
            " 21  spread2           195 non-null    float64\n",
            " 22  D2                195 non-null    float64\n",
            " 23  PPE               195 non-null    float64\n",
            "dtypes: float64(22), int64(1), object(1)\n",
            "memory usage: 36.7+ KB\n"
          ]
        }
      ]
    },
    {
      "cell_type": "code",
      "metadata": {
        "colab": {
          "base_uri": "https://localhost:8080/",
          "height": 778
        },
        "id": "zYSVBHcYgidk",
        "outputId": "d0ddc008-546a-4169-9347-b668ecbcc16f"
      },
      "source": [
        "parkinson_data.corr()"
      ],
      "execution_count": null,
      "outputs": [
        {
          "output_type": "execute_result",
          "data": {
            "text/html": [
              "<div>\n",
              "<style scoped>\n",
              "    .dataframe tbody tr th:only-of-type {\n",
              "        vertical-align: middle;\n",
              "    }\n",
              "\n",
              "    .dataframe tbody tr th {\n",
              "        vertical-align: top;\n",
              "    }\n",
              "\n",
              "    .dataframe thead th {\n",
              "        text-align: right;\n",
              "    }\n",
              "</style>\n",
              "<table border=\"1\" class=\"dataframe\">\n",
              "  <thead>\n",
              "    <tr style=\"text-align: right;\">\n",
              "      <th></th>\n",
              "      <th>MDVP:Fo(Hz)</th>\n",
              "      <th>MDVP:Fhi(Hz)</th>\n",
              "      <th>MDVP:Flo(Hz)</th>\n",
              "      <th>MDVP:Jitter(%)</th>\n",
              "      <th>MDVP:Jitter(Abs)</th>\n",
              "      <th>MDVP:RAP</th>\n",
              "      <th>MDVP:PPQ</th>\n",
              "      <th>Jitter:DDP</th>\n",
              "      <th>MDVP:Shimmer</th>\n",
              "      <th>MDVP:Shimmer(dB)</th>\n",
              "      <th>Shimmer:APQ3</th>\n",
              "      <th>Shimmer:APQ5</th>\n",
              "      <th>MDVP:APQ</th>\n",
              "      <th>Shimmer:DDA</th>\n",
              "      <th>NHR</th>\n",
              "      <th>HNR</th>\n",
              "      <th>status</th>\n",
              "      <th>RPDE</th>\n",
              "      <th>DFA</th>\n",
              "      <th>spread1</th>\n",
              "      <th>spread2</th>\n",
              "      <th>D2</th>\n",
              "      <th>PPE</th>\n",
              "    </tr>\n",
              "  </thead>\n",
              "  <tbody>\n",
              "    <tr>\n",
              "      <th>MDVP:Fo(Hz)</th>\n",
              "      <td>1.000000</td>\n",
              "      <td>0.400985</td>\n",
              "      <td>0.596546</td>\n",
              "      <td>-0.118003</td>\n",
              "      <td>-0.382027</td>\n",
              "      <td>-0.076194</td>\n",
              "      <td>-0.112165</td>\n",
              "      <td>-0.076213</td>\n",
              "      <td>-0.098374</td>\n",
              "      <td>-0.073742</td>\n",
              "      <td>-0.094717</td>\n",
              "      <td>-0.070682</td>\n",
              "      <td>-0.077774</td>\n",
              "      <td>-0.094732</td>\n",
              "      <td>-0.021981</td>\n",
              "      <td>0.059144</td>\n",
              "      <td>-0.383535</td>\n",
              "      <td>-0.383894</td>\n",
              "      <td>-0.446013</td>\n",
              "      <td>-0.413738</td>\n",
              "      <td>-0.249450</td>\n",
              "      <td>0.177980</td>\n",
              "      <td>-0.372356</td>\n",
              "    </tr>\n",
              "    <tr>\n",
              "      <th>MDVP:Fhi(Hz)</th>\n",
              "      <td>0.400985</td>\n",
              "      <td>1.000000</td>\n",
              "      <td>0.084951</td>\n",
              "      <td>0.102086</td>\n",
              "      <td>-0.029198</td>\n",
              "      <td>0.097177</td>\n",
              "      <td>0.091126</td>\n",
              "      <td>0.097150</td>\n",
              "      <td>0.002281</td>\n",
              "      <td>0.043465</td>\n",
              "      <td>-0.003743</td>\n",
              "      <td>-0.009997</td>\n",
              "      <td>0.004937</td>\n",
              "      <td>-0.003733</td>\n",
              "      <td>0.163766</td>\n",
              "      <td>-0.024893</td>\n",
              "      <td>-0.166136</td>\n",
              "      <td>-0.112404</td>\n",
              "      <td>-0.343097</td>\n",
              "      <td>-0.076658</td>\n",
              "      <td>-0.002954</td>\n",
              "      <td>0.176323</td>\n",
              "      <td>-0.069543</td>\n",
              "    </tr>\n",
              "    <tr>\n",
              "      <th>MDVP:Flo(Hz)</th>\n",
              "      <td>0.596546</td>\n",
              "      <td>0.084951</td>\n",
              "      <td>1.000000</td>\n",
              "      <td>-0.139919</td>\n",
              "      <td>-0.277815</td>\n",
              "      <td>-0.100519</td>\n",
              "      <td>-0.095828</td>\n",
              "      <td>-0.100488</td>\n",
              "      <td>-0.144543</td>\n",
              "      <td>-0.119089</td>\n",
              "      <td>-0.150747</td>\n",
              "      <td>-0.101095</td>\n",
              "      <td>-0.107293</td>\n",
              "      <td>-0.150737</td>\n",
              "      <td>-0.108670</td>\n",
              "      <td>0.210851</td>\n",
              "      <td>-0.380200</td>\n",
              "      <td>-0.400143</td>\n",
              "      <td>-0.050406</td>\n",
              "      <td>-0.394857</td>\n",
              "      <td>-0.243829</td>\n",
              "      <td>-0.100629</td>\n",
              "      <td>-0.340071</td>\n",
              "    </tr>\n",
              "    <tr>\n",
              "      <th>MDVP:Jitter(%)</th>\n",
              "      <td>-0.118003</td>\n",
              "      <td>0.102086</td>\n",
              "      <td>-0.139919</td>\n",
              "      <td>1.000000</td>\n",
              "      <td>0.935714</td>\n",
              "      <td>0.990276</td>\n",
              "      <td>0.974256</td>\n",
              "      <td>0.990276</td>\n",
              "      <td>0.769063</td>\n",
              "      <td>0.804289</td>\n",
              "      <td>0.746625</td>\n",
              "      <td>0.725561</td>\n",
              "      <td>0.758255</td>\n",
              "      <td>0.746635</td>\n",
              "      <td>0.906959</td>\n",
              "      <td>-0.728165</td>\n",
              "      <td>0.278220</td>\n",
              "      <td>0.360673</td>\n",
              "      <td>0.098572</td>\n",
              "      <td>0.693577</td>\n",
              "      <td>0.385123</td>\n",
              "      <td>0.433434</td>\n",
              "      <td>0.721543</td>\n",
              "    </tr>\n",
              "    <tr>\n",
              "      <th>MDVP:Jitter(Abs)</th>\n",
              "      <td>-0.382027</td>\n",
              "      <td>-0.029198</td>\n",
              "      <td>-0.277815</td>\n",
              "      <td>0.935714</td>\n",
              "      <td>1.000000</td>\n",
              "      <td>0.922911</td>\n",
              "      <td>0.897778</td>\n",
              "      <td>0.922913</td>\n",
              "      <td>0.703322</td>\n",
              "      <td>0.716601</td>\n",
              "      <td>0.697153</td>\n",
              "      <td>0.648961</td>\n",
              "      <td>0.648793</td>\n",
              "      <td>0.697170</td>\n",
              "      <td>0.834972</td>\n",
              "      <td>-0.656810</td>\n",
              "      <td>0.338653</td>\n",
              "      <td>0.441839</td>\n",
              "      <td>0.175036</td>\n",
              "      <td>0.735779</td>\n",
              "      <td>0.388543</td>\n",
              "      <td>0.310694</td>\n",
              "      <td>0.748162</td>\n",
              "    </tr>\n",
              "    <tr>\n",
              "      <th>MDVP:RAP</th>\n",
              "      <td>-0.076194</td>\n",
              "      <td>0.097177</td>\n",
              "      <td>-0.100519</td>\n",
              "      <td>0.990276</td>\n",
              "      <td>0.922911</td>\n",
              "      <td>1.000000</td>\n",
              "      <td>0.957317</td>\n",
              "      <td>1.000000</td>\n",
              "      <td>0.759581</td>\n",
              "      <td>0.790652</td>\n",
              "      <td>0.744912</td>\n",
              "      <td>0.709927</td>\n",
              "      <td>0.737455</td>\n",
              "      <td>0.744919</td>\n",
              "      <td>0.919521</td>\n",
              "      <td>-0.721543</td>\n",
              "      <td>0.266668</td>\n",
              "      <td>0.342140</td>\n",
              "      <td>0.064083</td>\n",
              "      <td>0.648328</td>\n",
              "      <td>0.324407</td>\n",
              "      <td>0.426605</td>\n",
              "      <td>0.670999</td>\n",
              "    </tr>\n",
              "    <tr>\n",
              "      <th>MDVP:PPQ</th>\n",
              "      <td>-0.112165</td>\n",
              "      <td>0.091126</td>\n",
              "      <td>-0.095828</td>\n",
              "      <td>0.974256</td>\n",
              "      <td>0.897778</td>\n",
              "      <td>0.957317</td>\n",
              "      <td>1.000000</td>\n",
              "      <td>0.957319</td>\n",
              "      <td>0.797826</td>\n",
              "      <td>0.839239</td>\n",
              "      <td>0.763580</td>\n",
              "      <td>0.786780</td>\n",
              "      <td>0.804139</td>\n",
              "      <td>0.763592</td>\n",
              "      <td>0.844604</td>\n",
              "      <td>-0.731510</td>\n",
              "      <td>0.288698</td>\n",
              "      <td>0.333274</td>\n",
              "      <td>0.196301</td>\n",
              "      <td>0.716489</td>\n",
              "      <td>0.407605</td>\n",
              "      <td>0.412524</td>\n",
              "      <td>0.769647</td>\n",
              "    </tr>\n",
              "    <tr>\n",
              "      <th>Jitter:DDP</th>\n",
              "      <td>-0.076213</td>\n",
              "      <td>0.097150</td>\n",
              "      <td>-0.100488</td>\n",
              "      <td>0.990276</td>\n",
              "      <td>0.922913</td>\n",
              "      <td>1.000000</td>\n",
              "      <td>0.957319</td>\n",
              "      <td>1.000000</td>\n",
              "      <td>0.759555</td>\n",
              "      <td>0.790621</td>\n",
              "      <td>0.744894</td>\n",
              "      <td>0.709907</td>\n",
              "      <td>0.737439</td>\n",
              "      <td>0.744901</td>\n",
              "      <td>0.919548</td>\n",
              "      <td>-0.721494</td>\n",
              "      <td>0.266646</td>\n",
              "      <td>0.342079</td>\n",
              "      <td>0.064026</td>\n",
              "      <td>0.648328</td>\n",
              "      <td>0.324377</td>\n",
              "      <td>0.426556</td>\n",
              "      <td>0.671005</td>\n",
              "    </tr>\n",
              "    <tr>\n",
              "      <th>MDVP:Shimmer</th>\n",
              "      <td>-0.098374</td>\n",
              "      <td>0.002281</td>\n",
              "      <td>-0.144543</td>\n",
              "      <td>0.769063</td>\n",
              "      <td>0.703322</td>\n",
              "      <td>0.759581</td>\n",
              "      <td>0.797826</td>\n",
              "      <td>0.759555</td>\n",
              "      <td>1.000000</td>\n",
              "      <td>0.987258</td>\n",
              "      <td>0.987625</td>\n",
              "      <td>0.982835</td>\n",
              "      <td>0.950083</td>\n",
              "      <td>0.987626</td>\n",
              "      <td>0.722194</td>\n",
              "      <td>-0.835271</td>\n",
              "      <td>0.367430</td>\n",
              "      <td>0.447424</td>\n",
              "      <td>0.159954</td>\n",
              "      <td>0.654734</td>\n",
              "      <td>0.452025</td>\n",
              "      <td>0.507088</td>\n",
              "      <td>0.693771</td>\n",
              "    </tr>\n",
              "    <tr>\n",
              "      <th>MDVP:Shimmer(dB)</th>\n",
              "      <td>-0.073742</td>\n",
              "      <td>0.043465</td>\n",
              "      <td>-0.119089</td>\n",
              "      <td>0.804289</td>\n",
              "      <td>0.716601</td>\n",
              "      <td>0.790652</td>\n",
              "      <td>0.839239</td>\n",
              "      <td>0.790621</td>\n",
              "      <td>0.987258</td>\n",
              "      <td>1.000000</td>\n",
              "      <td>0.963198</td>\n",
              "      <td>0.973751</td>\n",
              "      <td>0.960977</td>\n",
              "      <td>0.963202</td>\n",
              "      <td>0.744477</td>\n",
              "      <td>-0.827805</td>\n",
              "      <td>0.350697</td>\n",
              "      <td>0.410684</td>\n",
              "      <td>0.165157</td>\n",
              "      <td>0.652547</td>\n",
              "      <td>0.454314</td>\n",
              "      <td>0.512233</td>\n",
              "      <td>0.695058</td>\n",
              "    </tr>\n",
              "    <tr>\n",
              "      <th>Shimmer:APQ3</th>\n",
              "      <td>-0.094717</td>\n",
              "      <td>-0.003743</td>\n",
              "      <td>-0.150747</td>\n",
              "      <td>0.746625</td>\n",
              "      <td>0.697153</td>\n",
              "      <td>0.744912</td>\n",
              "      <td>0.763580</td>\n",
              "      <td>0.744894</td>\n",
              "      <td>0.987625</td>\n",
              "      <td>0.963198</td>\n",
              "      <td>1.000000</td>\n",
              "      <td>0.960070</td>\n",
              "      <td>0.896645</td>\n",
              "      <td>1.000000</td>\n",
              "      <td>0.716207</td>\n",
              "      <td>-0.827123</td>\n",
              "      <td>0.347617</td>\n",
              "      <td>0.435242</td>\n",
              "      <td>0.151124</td>\n",
              "      <td>0.610967</td>\n",
              "      <td>0.402243</td>\n",
              "      <td>0.467265</td>\n",
              "      <td>0.645377</td>\n",
              "    </tr>\n",
              "    <tr>\n",
              "      <th>Shimmer:APQ5</th>\n",
              "      <td>-0.070682</td>\n",
              "      <td>-0.009997</td>\n",
              "      <td>-0.101095</td>\n",
              "      <td>0.725561</td>\n",
              "      <td>0.648961</td>\n",
              "      <td>0.709927</td>\n",
              "      <td>0.786780</td>\n",
              "      <td>0.709907</td>\n",
              "      <td>0.982835</td>\n",
              "      <td>0.973751</td>\n",
              "      <td>0.960070</td>\n",
              "      <td>1.000000</td>\n",
              "      <td>0.949146</td>\n",
              "      <td>0.960072</td>\n",
              "      <td>0.658080</td>\n",
              "      <td>-0.813753</td>\n",
              "      <td>0.351148</td>\n",
              "      <td>0.399903</td>\n",
              "      <td>0.213873</td>\n",
              "      <td>0.646809</td>\n",
              "      <td>0.457195</td>\n",
              "      <td>0.502174</td>\n",
              "      <td>0.702456</td>\n",
              "    </tr>\n",
              "    <tr>\n",
              "      <th>MDVP:APQ</th>\n",
              "      <td>-0.077774</td>\n",
              "      <td>0.004937</td>\n",
              "      <td>-0.107293</td>\n",
              "      <td>0.758255</td>\n",
              "      <td>0.648793</td>\n",
              "      <td>0.737455</td>\n",
              "      <td>0.804139</td>\n",
              "      <td>0.737439</td>\n",
              "      <td>0.950083</td>\n",
              "      <td>0.960977</td>\n",
              "      <td>0.896645</td>\n",
              "      <td>0.949146</td>\n",
              "      <td>1.000000</td>\n",
              "      <td>0.896647</td>\n",
              "      <td>0.694019</td>\n",
              "      <td>-0.800407</td>\n",
              "      <td>0.364316</td>\n",
              "      <td>0.451379</td>\n",
              "      <td>0.157276</td>\n",
              "      <td>0.673158</td>\n",
              "      <td>0.502188</td>\n",
              "      <td>0.536869</td>\n",
              "      <td>0.721694</td>\n",
              "    </tr>\n",
              "    <tr>\n",
              "      <th>Shimmer:DDA</th>\n",
              "      <td>-0.094732</td>\n",
              "      <td>-0.003733</td>\n",
              "      <td>-0.150737</td>\n",
              "      <td>0.746635</td>\n",
              "      <td>0.697170</td>\n",
              "      <td>0.744919</td>\n",
              "      <td>0.763592</td>\n",
              "      <td>0.744901</td>\n",
              "      <td>0.987626</td>\n",
              "      <td>0.963202</td>\n",
              "      <td>1.000000</td>\n",
              "      <td>0.960072</td>\n",
              "      <td>0.896647</td>\n",
              "      <td>1.000000</td>\n",
              "      <td>0.716215</td>\n",
              "      <td>-0.827130</td>\n",
              "      <td>0.347608</td>\n",
              "      <td>0.435237</td>\n",
              "      <td>0.151132</td>\n",
              "      <td>0.610971</td>\n",
              "      <td>0.402223</td>\n",
              "      <td>0.467261</td>\n",
              "      <td>0.645389</td>\n",
              "    </tr>\n",
              "    <tr>\n",
              "      <th>NHR</th>\n",
              "      <td>-0.021981</td>\n",
              "      <td>0.163766</td>\n",
              "      <td>-0.108670</td>\n",
              "      <td>0.906959</td>\n",
              "      <td>0.834972</td>\n",
              "      <td>0.919521</td>\n",
              "      <td>0.844604</td>\n",
              "      <td>0.919548</td>\n",
              "      <td>0.722194</td>\n",
              "      <td>0.744477</td>\n",
              "      <td>0.716207</td>\n",
              "      <td>0.658080</td>\n",
              "      <td>0.694019</td>\n",
              "      <td>0.716215</td>\n",
              "      <td>1.000000</td>\n",
              "      <td>-0.714072</td>\n",
              "      <td>0.189429</td>\n",
              "      <td>0.370890</td>\n",
              "      <td>-0.131882</td>\n",
              "      <td>0.540865</td>\n",
              "      <td>0.318099</td>\n",
              "      <td>0.470949</td>\n",
              "      <td>0.552591</td>\n",
              "    </tr>\n",
              "    <tr>\n",
              "      <th>HNR</th>\n",
              "      <td>0.059144</td>\n",
              "      <td>-0.024893</td>\n",
              "      <td>0.210851</td>\n",
              "      <td>-0.728165</td>\n",
              "      <td>-0.656810</td>\n",
              "      <td>-0.721543</td>\n",
              "      <td>-0.731510</td>\n",
              "      <td>-0.721494</td>\n",
              "      <td>-0.835271</td>\n",
              "      <td>-0.827805</td>\n",
              "      <td>-0.827123</td>\n",
              "      <td>-0.813753</td>\n",
              "      <td>-0.800407</td>\n",
              "      <td>-0.827130</td>\n",
              "      <td>-0.714072</td>\n",
              "      <td>1.000000</td>\n",
              "      <td>-0.361515</td>\n",
              "      <td>-0.598736</td>\n",
              "      <td>-0.008665</td>\n",
              "      <td>-0.673210</td>\n",
              "      <td>-0.431564</td>\n",
              "      <td>-0.601401</td>\n",
              "      <td>-0.692876</td>\n",
              "    </tr>\n",
              "    <tr>\n",
              "      <th>status</th>\n",
              "      <td>-0.383535</td>\n",
              "      <td>-0.166136</td>\n",
              "      <td>-0.380200</td>\n",
              "      <td>0.278220</td>\n",
              "      <td>0.338653</td>\n",
              "      <td>0.266668</td>\n",
              "      <td>0.288698</td>\n",
              "      <td>0.266646</td>\n",
              "      <td>0.367430</td>\n",
              "      <td>0.350697</td>\n",
              "      <td>0.347617</td>\n",
              "      <td>0.351148</td>\n",
              "      <td>0.364316</td>\n",
              "      <td>0.347608</td>\n",
              "      <td>0.189429</td>\n",
              "      <td>-0.361515</td>\n",
              "      <td>1.000000</td>\n",
              "      <td>0.308567</td>\n",
              "      <td>0.231739</td>\n",
              "      <td>0.564838</td>\n",
              "      <td>0.454842</td>\n",
              "      <td>0.340232</td>\n",
              "      <td>0.531039</td>\n",
              "    </tr>\n",
              "    <tr>\n",
              "      <th>RPDE</th>\n",
              "      <td>-0.383894</td>\n",
              "      <td>-0.112404</td>\n",
              "      <td>-0.400143</td>\n",
              "      <td>0.360673</td>\n",
              "      <td>0.441839</td>\n",
              "      <td>0.342140</td>\n",
              "      <td>0.333274</td>\n",
              "      <td>0.342079</td>\n",
              "      <td>0.447424</td>\n",
              "      <td>0.410684</td>\n",
              "      <td>0.435242</td>\n",
              "      <td>0.399903</td>\n",
              "      <td>0.451379</td>\n",
              "      <td>0.435237</td>\n",
              "      <td>0.370890</td>\n",
              "      <td>-0.598736</td>\n",
              "      <td>0.308567</td>\n",
              "      <td>1.000000</td>\n",
              "      <td>-0.110950</td>\n",
              "      <td>0.591117</td>\n",
              "      <td>0.479905</td>\n",
              "      <td>0.236931</td>\n",
              "      <td>0.545886</td>\n",
              "    </tr>\n",
              "    <tr>\n",
              "      <th>DFA</th>\n",
              "      <td>-0.446013</td>\n",
              "      <td>-0.343097</td>\n",
              "      <td>-0.050406</td>\n",
              "      <td>0.098572</td>\n",
              "      <td>0.175036</td>\n",
              "      <td>0.064083</td>\n",
              "      <td>0.196301</td>\n",
              "      <td>0.064026</td>\n",
              "      <td>0.159954</td>\n",
              "      <td>0.165157</td>\n",
              "      <td>0.151124</td>\n",
              "      <td>0.213873</td>\n",
              "      <td>0.157276</td>\n",
              "      <td>0.151132</td>\n",
              "      <td>-0.131882</td>\n",
              "      <td>-0.008665</td>\n",
              "      <td>0.231739</td>\n",
              "      <td>-0.110950</td>\n",
              "      <td>1.000000</td>\n",
              "      <td>0.195668</td>\n",
              "      <td>0.166548</td>\n",
              "      <td>-0.165381</td>\n",
              "      <td>0.270445</td>\n",
              "    </tr>\n",
              "    <tr>\n",
              "      <th>spread1</th>\n",
              "      <td>-0.413738</td>\n",
              "      <td>-0.076658</td>\n",
              "      <td>-0.394857</td>\n",
              "      <td>0.693577</td>\n",
              "      <td>0.735779</td>\n",
              "      <td>0.648328</td>\n",
              "      <td>0.716489</td>\n",
              "      <td>0.648328</td>\n",
              "      <td>0.654734</td>\n",
              "      <td>0.652547</td>\n",
              "      <td>0.610967</td>\n",
              "      <td>0.646809</td>\n",
              "      <td>0.673158</td>\n",
              "      <td>0.610971</td>\n",
              "      <td>0.540865</td>\n",
              "      <td>-0.673210</td>\n",
              "      <td>0.564838</td>\n",
              "      <td>0.591117</td>\n",
              "      <td>0.195668</td>\n",
              "      <td>1.000000</td>\n",
              "      <td>0.652358</td>\n",
              "      <td>0.495123</td>\n",
              "      <td>0.962435</td>\n",
              "    </tr>\n",
              "    <tr>\n",
              "      <th>spread2</th>\n",
              "      <td>-0.249450</td>\n",
              "      <td>-0.002954</td>\n",
              "      <td>-0.243829</td>\n",
              "      <td>0.385123</td>\n",
              "      <td>0.388543</td>\n",
              "      <td>0.324407</td>\n",
              "      <td>0.407605</td>\n",
              "      <td>0.324377</td>\n",
              "      <td>0.452025</td>\n",
              "      <td>0.454314</td>\n",
              "      <td>0.402243</td>\n",
              "      <td>0.457195</td>\n",
              "      <td>0.502188</td>\n",
              "      <td>0.402223</td>\n",
              "      <td>0.318099</td>\n",
              "      <td>-0.431564</td>\n",
              "      <td>0.454842</td>\n",
              "      <td>0.479905</td>\n",
              "      <td>0.166548</td>\n",
              "      <td>0.652358</td>\n",
              "      <td>1.000000</td>\n",
              "      <td>0.523532</td>\n",
              "      <td>0.644711</td>\n",
              "    </tr>\n",
              "    <tr>\n",
              "      <th>D2</th>\n",
              "      <td>0.177980</td>\n",
              "      <td>0.176323</td>\n",
              "      <td>-0.100629</td>\n",
              "      <td>0.433434</td>\n",
              "      <td>0.310694</td>\n",
              "      <td>0.426605</td>\n",
              "      <td>0.412524</td>\n",
              "      <td>0.426556</td>\n",
              "      <td>0.507088</td>\n",
              "      <td>0.512233</td>\n",
              "      <td>0.467265</td>\n",
              "      <td>0.502174</td>\n",
              "      <td>0.536869</td>\n",
              "      <td>0.467261</td>\n",
              "      <td>0.470949</td>\n",
              "      <td>-0.601401</td>\n",
              "      <td>0.340232</td>\n",
              "      <td>0.236931</td>\n",
              "      <td>-0.165381</td>\n",
              "      <td>0.495123</td>\n",
              "      <td>0.523532</td>\n",
              "      <td>1.000000</td>\n",
              "      <td>0.480585</td>\n",
              "    </tr>\n",
              "    <tr>\n",
              "      <th>PPE</th>\n",
              "      <td>-0.372356</td>\n",
              "      <td>-0.069543</td>\n",
              "      <td>-0.340071</td>\n",
              "      <td>0.721543</td>\n",
              "      <td>0.748162</td>\n",
              "      <td>0.670999</td>\n",
              "      <td>0.769647</td>\n",
              "      <td>0.671005</td>\n",
              "      <td>0.693771</td>\n",
              "      <td>0.695058</td>\n",
              "      <td>0.645377</td>\n",
              "      <td>0.702456</td>\n",
              "      <td>0.721694</td>\n",
              "      <td>0.645389</td>\n",
              "      <td>0.552591</td>\n",
              "      <td>-0.692876</td>\n",
              "      <td>0.531039</td>\n",
              "      <td>0.545886</td>\n",
              "      <td>0.270445</td>\n",
              "      <td>0.962435</td>\n",
              "      <td>0.644711</td>\n",
              "      <td>0.480585</td>\n",
              "      <td>1.000000</td>\n",
              "    </tr>\n",
              "  </tbody>\n",
              "</table>\n",
              "</div>"
            ],
            "text/plain": [
              "                  MDVP:Fo(Hz)  MDVP:Fhi(Hz)  ...        D2       PPE\n",
              "MDVP:Fo(Hz)          1.000000      0.400985  ...  0.177980 -0.372356\n",
              "MDVP:Fhi(Hz)         0.400985      1.000000  ...  0.176323 -0.069543\n",
              "MDVP:Flo(Hz)         0.596546      0.084951  ... -0.100629 -0.340071\n",
              "MDVP:Jitter(%)      -0.118003      0.102086  ...  0.433434  0.721543\n",
              "MDVP:Jitter(Abs)    -0.382027     -0.029198  ...  0.310694  0.748162\n",
              "MDVP:RAP            -0.076194      0.097177  ...  0.426605  0.670999\n",
              "MDVP:PPQ            -0.112165      0.091126  ...  0.412524  0.769647\n",
              "Jitter:DDP          -0.076213      0.097150  ...  0.426556  0.671005\n",
              "MDVP:Shimmer        -0.098374      0.002281  ...  0.507088  0.693771\n",
              "MDVP:Shimmer(dB)    -0.073742      0.043465  ...  0.512233  0.695058\n",
              "Shimmer:APQ3        -0.094717     -0.003743  ...  0.467265  0.645377\n",
              "Shimmer:APQ5        -0.070682     -0.009997  ...  0.502174  0.702456\n",
              "MDVP:APQ            -0.077774      0.004937  ...  0.536869  0.721694\n",
              "Shimmer:DDA         -0.094732     -0.003733  ...  0.467261  0.645389\n",
              "NHR                 -0.021981      0.163766  ...  0.470949  0.552591\n",
              "HNR                  0.059144     -0.024893  ... -0.601401 -0.692876\n",
              "status              -0.383535     -0.166136  ...  0.340232  0.531039\n",
              "RPDE                -0.383894     -0.112404  ...  0.236931  0.545886\n",
              "DFA                 -0.446013     -0.343097  ... -0.165381  0.270445\n",
              "spread1             -0.413738     -0.076658  ...  0.495123  0.962435\n",
              "spread2             -0.249450     -0.002954  ...  0.523532  0.644711\n",
              "D2                   0.177980      0.176323  ...  1.000000  0.480585\n",
              "PPE                 -0.372356     -0.069543  ...  0.480585  1.000000\n",
              "\n",
              "[23 rows x 23 columns]"
            ]
          },
          "metadata": {},
          "execution_count": 20
        }
      ]
    },
    {
      "cell_type": "code",
      "metadata": {
        "colab": {
          "base_uri": "https://localhost:8080/",
          "height": 1000
        },
        "id": "vRF0SioygoPd",
        "outputId": "681f8d36-de1c-44e8-ca9d-9b7eb0a07a15"
      },
      "source": [
        "plt.figure(figsize=(25, 25))\n",
        "p = sns.heatmap(parkinson_data.corr(), annot=True)"
      ],
      "execution_count": null,
      "outputs": [
        {
          "output_type": "display_data",
          "data": {
            "image/png": "[encoded data removed]",
            "text/plain": [
              "<Figure size 1800x1800 with 2 Axes>"
            ]
          },
          "metadata": {
            "needs_background": "light"
          }
        }
      ]
    },
    {
      "cell_type": "code",
      "metadata": {
        "colab": {
          "base_uri": "https://localhost:8080/"
        },
        "id": "3ulHai9fWb_X",
        "outputId": "c34423ce-94a1-452e-82e2-5f7da82c18c6"
      },
      "source": [
        "# target variable = status \n",
        "parkinson_data['status'].value_counts()"
      ],
      "execution_count": null,
      "outputs": [
        {
          "output_type": "execute_result",
          "data": {
            "text/plain": [
              "1    147\n",
              "0     48\n",
              "Name: status, dtype: int64"
            ]
          },
          "metadata": {},
          "execution_count": 22
        }
      ]
    },
    {
      "cell_type": "markdown",
      "metadata": {
        "id": "eTx4Hu5gXbrg"
      },
      "source": [
        "##### 0 --> Without Parkinson; 1 --> Parikson Positive"
      ]
    },
    {
      "cell_type": "markdown",
      "metadata": {
        "id": "AJ1Jp5n6XpWd"
      },
      "source": [
        "## Grouping data based on target variable"
      ]
    },
    {
      "cell_type": "code",
      "metadata": {
        "colab": {
          "base_uri": "https://localhost:8080/",
          "height": 162
        },
        "id": "W2F7I8HTXs4C",
        "outputId": "4c6b40e5-0dfe-4136-f9d6-8be61c03a4ea"
      },
      "source": [
        "parkinson_data.groupby('status').mean()"
      ],
      "execution_count": null,
      "outputs": [
        {
          "output_type": "execute_result",
          "data": {
            "text/html": [
              "<div>\n",
              "<style scoped>\n",
              "    .dataframe tbody tr th:only-of-type {\n",
              "        vertical-align: middle;\n",
              "    }\n",
              "\n",
              "    .dataframe tbody tr th {\n",
              "        vertical-align: top;\n",
              "    }\n",
              "\n",
              "    .dataframe thead th {\n",
              "        text-align: right;\n",
              "    }\n",
              "</style>\n",
              "<table border=\"1\" class=\"dataframe\">\n",
              "  <thead>\n",
              "    <tr style=\"text-align: right;\">\n",
              "      <th></th>\n",
              "      <th>MDVP:Fo(Hz)</th>\n",
              "      <th>MDVP:Fhi(Hz)</th>\n",
              "      <th>MDVP:Flo(Hz)</th>\n",
              "      <th>MDVP:Jitter(%)</th>\n",
              "      <th>MDVP:Jitter(Abs)</th>\n",
              "      <th>MDVP:RAP</th>\n",
              "      <th>MDVP:PPQ</th>\n",
              "      <th>Jitter:DDP</th>\n",
              "      <th>MDVP:Shimmer</th>\n",
              "      <th>MDVP:Shimmer(dB)</th>\n",
              "      <th>Shimmer:APQ3</th>\n",
              "      <th>Shimmer:APQ5</th>\n",
              "      <th>MDVP:APQ</th>\n",
              "      <th>Shimmer:DDA</th>\n",
              "      <th>NHR</th>\n",
              "      <th>HNR</th>\n",
              "      <th>RPDE</th>\n",
              "      <th>DFA</th>\n",
              "      <th>spread1</th>\n",
              "      <th>spread2</th>\n",
              "      <th>D2</th>\n",
              "      <th>PPE</th>\n",
              "    </tr>\n",
              "    <tr>\n",
              "      <th>status</th>\n",
              "      <th></th>\n",
              "      <th></th>\n",
              "      <th></th>\n",
              "      <th></th>\n",
              "      <th></th>\n",
              "      <th></th>\n",
              "      <th></th>\n",
              "      <th></th>\n",
              "      <th></th>\n",
              "      <th></th>\n",
              "      <th></th>\n",
              "      <th></th>\n",
              "      <th></th>\n",
              "      <th></th>\n",
              "      <th></th>\n",
              "      <th></th>\n",
              "      <th></th>\n",
              "      <th></th>\n",
              "      <th></th>\n",
              "      <th></th>\n",
              "      <th></th>\n",
              "      <th></th>\n",
              "    </tr>\n",
              "  </thead>\n",
              "  <tbody>\n",
              "    <tr>\n",
              "      <th>0</th>\n",
              "      <td>181.937771</td>\n",
              "      <td>223.636750</td>\n",
              "      <td>145.207292</td>\n",
              "      <td>0.003866</td>\n",
              "      <td>0.000023</td>\n",
              "      <td>0.001925</td>\n",
              "      <td>0.002056</td>\n",
              "      <td>0.005776</td>\n",
              "      <td>0.017615</td>\n",
              "      <td>0.162958</td>\n",
              "      <td>0.009504</td>\n",
              "      <td>0.010509</td>\n",
              "      <td>0.013305</td>\n",
              "      <td>0.028511</td>\n",
              "      <td>0.011483</td>\n",
              "      <td>24.678750</td>\n",
              "      <td>0.442552</td>\n",
              "      <td>0.695716</td>\n",
              "      <td>-6.759264</td>\n",
              "      <td>0.160292</td>\n",
              "      <td>2.154491</td>\n",
              "      <td>0.123017</td>\n",
              "    </tr>\n",
              "    <tr>\n",
              "      <th>1</th>\n",
              "      <td>145.180762</td>\n",
              "      <td>188.441463</td>\n",
              "      <td>106.893558</td>\n",
              "      <td>0.006989</td>\n",
              "      <td>0.000051</td>\n",
              "      <td>0.003757</td>\n",
              "      <td>0.003900</td>\n",
              "      <td>0.011273</td>\n",
              "      <td>0.033658</td>\n",
              "      <td>0.321204</td>\n",
              "      <td>0.017676</td>\n",
              "      <td>0.020285</td>\n",
              "      <td>0.027600</td>\n",
              "      <td>0.053027</td>\n",
              "      <td>0.029211</td>\n",
              "      <td>20.974048</td>\n",
              "      <td>0.516816</td>\n",
              "      <td>0.725408</td>\n",
              "      <td>-5.333420</td>\n",
              "      <td>0.248133</td>\n",
              "      <td>2.456058</td>\n",
              "      <td>0.233828</td>\n",
              "    </tr>\n",
              "  </tbody>\n",
              "</table>\n",
              "</div>"
            ],
            "text/plain": [
              "        MDVP:Fo(Hz)  MDVP:Fhi(Hz)  MDVP:Flo(Hz)  ...   spread2        D2       PPE\n",
              "status                                           ...                              \n",
              "0        181.937771    223.636750    145.207292  ...  0.160292  2.154491  0.123017\n",
              "1        145.180762    188.441463    106.893558  ...  0.248133  2.456058  0.233828\n",
              "\n",
              "[2 rows x 22 columns]"
            ]
          },
          "metadata": {},
          "execution_count": 23
        }
      ]
    },
    {
      "cell_type": "markdown",
      "metadata": {
        "id": "4AYQM1ffefGs"
      },
      "source": [
        "## Data Pre-Processing"
      ]
    },
    {
      "cell_type": "markdown",
      "metadata": {
        "id": "6V70yCz8fdQ8"
      },
      "source": [
        "#### Seperating Features and Target variables"
      ]
    },
    {
      "cell_type": "code",
      "metadata": {
        "id": "GEqdRwuxeg7b"
      },
      "source": [
        "X = parkinson_data.drop(columns=['status','name'], axis=1) #dropping column axis = 1; dropping row then axis = 0\n",
        "Y = parkinson_data['status']"
      ],
      "execution_count": null,
      "outputs": []
    },
    {
      "cell_type": "code",
      "metadata": {
        "colab": {
          "base_uri": "https://localhost:8080/"
        },
        "id": "NCcvA-QYfhJw",
        "outputId": "522ea558-4a8c-475d-ddcd-07e51e242d44"
      },
      "source": [
        "print(X)"
      ],
      "execution_count": null,
      "outputs": [
        {
          "output_type": "stream",
          "name": "stdout",
          "text": [
            "     MDVP:Fo(Hz)  MDVP:Fhi(Hz)  MDVP:Flo(Hz)  ...   spread2        D2       PPE\n",
            "0        119.992       157.302        74.997  ...  0.266482  2.301442  0.284654\n",
            "1        122.400       148.650       113.819  ...  0.335590  2.486855  0.368674\n",
            "2        116.682       131.111       111.555  ...  0.311173  2.342259  0.332634\n",
            "3        116.676       137.871       111.366  ...  0.334147  2.405554  0.368975\n",
            "4        116.014       141.781       110.655  ...  0.234513  2.332180  0.410335\n",
            "..           ...           ...           ...  ...       ...       ...       ...\n",
            "190      174.188       230.978        94.261  ...  0.121952  2.657476  0.133050\n",
            "191      209.516       253.017        89.488  ...  0.129303  2.784312  0.168895\n",
            "192      174.688       240.005        74.287  ...  0.158453  2.679772  0.131728\n",
            "193      198.764       396.961        74.904  ...  0.207454  2.138608  0.123306\n",
            "194      214.289       260.277        77.973  ...  0.190667  2.555477  0.148569\n",
            "\n",
            "[195 rows x 22 columns]\n"
          ]
        }
      ]
    },
    {
      "cell_type": "code",
      "metadata": {
        "colab": {
          "base_uri": "https://localhost:8080/"
        },
        "id": "LTi6A52Ifig8",
        "outputId": "68c9580b-0fbc-4ff2-cd79-223255165a52"
      },
      "source": [
        "print(Y)"
      ],
      "execution_count": null,
      "outputs": [
        {
          "output_type": "stream",
          "name": "stdout",
          "text": [
            "0      1\n",
            "1      1\n",
            "2      1\n",
            "3      1\n",
            "4      1\n",
            "      ..\n",
            "190    0\n",
            "191    0\n",
            "192    0\n",
            "193    0\n",
            "194    0\n",
            "Name: status, Length: 195, dtype: int64\n"
          ]
        }
      ]
    },
    {
      "cell_type": "markdown",
      "metadata": {
        "id": "4kLjmcvRfojl"
      },
      "source": [
        "#### Splitting the data into testing and training set"
      ]
    },
    {
      "cell_type": "code",
      "metadata": {
        "id": "HjpL8ZMkfuHS"
      },
      "source": [
        "X_train, X_test, Y_train, Y_test = train_test_split(X, Y, test_size=0.2, random_state=2)"
      ],
      "execution_count": null,
      "outputs": []
    },
    {
      "cell_type": "code",
      "metadata": {
        "colab": {
          "base_uri": "https://localhost:8080/"
        },
        "id": "Mrh1q0gIvbYO",
        "outputId": "bd1e8efa-7fda-431a-9c78-14c8376e7aff"
      },
      "source": [
        "print(X.shape, X_train.shape, X_test.shape)"
      ],
      "execution_count": null,
      "outputs": [
        {
          "output_type": "stream",
          "name": "stdout",
          "text": [
            "(195, 22) (156, 22) (39, 22)\n"
          ]
        }
      ]
    },
    {
      "cell_type": "markdown",
      "metadata": {
        "id": "KLX5dd9AvyBR"
      },
      "source": [
        "## Data Standardization"
      ]
    },
    {
      "cell_type": "code",
      "metadata": {
        "id": "e0NJhT2Vv0MO"
      },
      "source": [
        "scaler = StandardScaler()"
      ],
      "execution_count": null,
      "outputs": []
    },
    {
      "cell_type": "code",
      "metadata": {
        "colab": {
          "base_uri": "https://localhost:8080/"
        },
        "id": "xJXuLb9zwKGZ",
        "outputId": "b2d6cbbf-dc30-4ab7-e3c1-84ba0914c9d7"
      },
      "source": [
        "scaler.fit(X_train)"
      ],
      "execution_count": null,
      "outputs": [
        {
          "output_type": "execute_result",
          "data": {
            "text/plain": [
              "StandardScaler(copy=True, with_mean=True, with_std=True)"
            ]
          },
          "metadata": {},
          "execution_count": 30
        }
      ]
    },
    {
      "cell_type": "code",
      "metadata": {
        "id": "Cor1K_AOwVLA"
      },
      "source": [
        "X_train = scaler.transform(X_train)\n",
        "X_test = scaler.transform(X_test)"
      ],
      "execution_count": null,
      "outputs": []
    },
    {
      "cell_type": "code",
      "metadata": {
        "colab": {
          "base_uri": "https://localhost:8080/"
        },
        "id": "9lo_wloCw3gJ",
        "outputId": "0cec896f-8ba5-4f41-c6af-466d067d1828"
      },
      "source": [
        "print(X_train)"
      ],
      "execution_count": null,
      "outputs": [
        {
          "output_type": "stream",
          "name": "stdout",
          "text": [
            "[[ 0.63239631 -0.02731081 -0.87985049 ... -0.97586547 -0.55160318\n",
            "   0.07769494]\n",
            " [-1.05512719 -0.83337041 -0.9284778  ...  0.3981808  -0.61014073\n",
            "   0.39291782]\n",
            " [ 0.02996187 -0.29531068 -1.12211107 ... -0.43937044 -0.62849605\n",
            "  -0.50948408]\n",
            " ...\n",
            " [-0.9096785  -0.6637302  -0.160638   ...  1.22001022 -0.47404629\n",
            "  -0.2159482 ]\n",
            " [-0.35977689  0.19731822 -0.79063679 ... -0.17896029 -0.47272835\n",
            "   0.28181221]\n",
            " [ 1.01957066  0.19922317 -0.61914972 ... -0.716232    1.23632066\n",
            "  -0.05829386]]\n"
          ]
        }
      ]
    },
    {
      "cell_type": "markdown",
      "metadata": {
        "id": "YIkU6r7sxPfY"
      },
      "source": [
        "## Model Training"
      ]
    },
    {
      "cell_type": "markdown",
      "metadata": {
        "id": "4KFCXbKjxSLA"
      },
      "source": [
        "### Using Support Vector Machine "
      ]
    },
    {
      "cell_type": "code",
      "metadata": {
        "id": "Rg70yOazxVDr"
      },
      "source": [
        "model = svm.SVC(kernel='linear')"
      ],
      "execution_count": null,
      "outputs": []
    },
    {
      "cell_type": "code",
      "metadata": {
        "colab": {
          "base_uri": "https://localhost:8080/"
        },
        "id": "QtRHXueCyhZl",
        "outputId": "be9cdb28-ede2-43fd-ba7c-2485b9a3ec56"
      },
      "source": [
        "# training the SVM model with training data\n",
        "model.fit(X_train, Y_train)"
      ],
      "execution_count": null,
      "outputs": [
        {
          "output_type": "execute_result",
          "data": {
            "text/plain": [
              "SVC(C=1.0, break_ties=False, cache_size=200, class_weight=None, coef0=0.0,\n",
              "    decision_function_shape='ovr', degree=3, gamma='scale', kernel='linear',\n",
              "    max_iter=-1, probability=False, random_state=None, shrinking=True,\n",
              "    tol=0.001, verbose=False)"
            ]
          },
          "metadata": {},
          "execution_count": 34
        }
      ]
    },
    {
      "cell_type": "markdown",
      "metadata": {
        "id": "T7m5D0t7zwh5"
      },
      "source": [
        "## Model Evaluation"
      ]
    },
    {
      "cell_type": "markdown",
      "metadata": {
        "id": "iUcrfe_gzzVw"
      },
      "source": [
        "#### Accuracy Score"
      ]
    },
    {
      "cell_type": "code",
      "metadata": {
        "id": "of-dDEP7zx_I"
      },
      "source": [
        "# Accuracy Score on training data\n",
        "X_train_pred = model.predict(X_train)\n",
        "training_data_accuracy = accuracy_score(Y_train, X_train_pred)"
      ],
      "execution_count": null,
      "outputs": []
    },
    {
      "cell_type": "code",
      "metadata": {
        "colab": {
          "base_uri": "https://localhost:8080/"
        },
        "id": "g-xs-fER0M56",
        "outputId": "c6f3a360-cb94-40c9-c93a-54567aa874ad"
      },
      "source": [
        "print('Accuracy (Training Data) :', training_data_accuracy*100, '%')"
      ],
      "execution_count": null,
      "outputs": [
        {
          "output_type": "stream",
          "name": "stdout",
          "text": [
            "Accuracy (Training Data) : 88.46153846153845 %\n"
          ]
        }
      ]
    },
    {
      "cell_type": "code",
      "metadata": {
        "id": "ziIN_mGw0Tlj"
      },
      "source": [
        "# Accuracy Score on test data\n",
        "X_test_pred = model.predict(X_test)\n",
        "testing_data_accuracy = accuracy_score(Y_test, X_test_pred)"
      ],
      "execution_count": null,
      "outputs": []
    },
    {
      "cell_type": "code",
      "metadata": {
        "colab": {
          "base_uri": "https://localhost:8080/"
        },
        "id": "nA9h23gn0nm7",
        "outputId": "78fc4b08-a1fa-4cf6-e701-1cec4b5f4f2e"
      },
      "source": [
        "print('Accuracy (Testing Data) :', testing_data_accuracy*100, '%')"
      ],
      "execution_count": null,
      "outputs": [
        {
          "output_type": "stream",
          "name": "stdout",
          "text": [
            "Accuracy (Testing Data) : 87.17948717948718 %\n"
          ]
        }
      ]
    },
    {
      "cell_type": "markdown",
      "metadata": {
        "id": "1_cVYe971eb5"
      },
      "source": [
        "## Predictive System"
      ]
    },
    {
      "cell_type": "code",
      "metadata": {
        "colab": {
          "base_uri": "https://localhost:8080/"
        },
        "id": "XNBgnOl01gmw",
        "outputId": "c7d2cdb8-d941-4e63-e1c1-e499c688a116"
      },
      "source": [
        "#input_data = (95.730,132.068,91.754,0.00551,0.00006,0.00293,0.00332,0.00880,0.02093,0.191,0.01073,0.01277,0.01717,0.03218,0.01070,21.812,0.615551,0.773587,-5.498678,0.327769,2.322511,0.231571)\n",
        "input_data = (197.07600,206.89600,192.05500,0.00289,0.00001,0.00166,0.00168,0.00498,0.01098,0.09700,0.00563,0.00680,0.00802,0.01689,0.00339,26.77500,0.422229,0.741367,-7.348300,0.177551,1.743867,0.085569)\n",
        "\n",
        "# changing input data to numpy array\n",
        "input_data_numpy = np.asarray(input_data)\n",
        "\n",
        "#reshaping the numpy array \n",
        "input_data_reshape = input_data_numpy.reshape(1,-1)\n",
        "\n",
        "#standardizing the input data \n",
        "std_data = scaler.transform(input_data_reshape)\n",
        "\n",
        "## prediction\n",
        "prediction = model.predict(std_data)\n",
        "print(prediction)\n",
        "\n",
        "if (prediction[0] == 1):\n",
        "  print('The patient has Parkinson')\n",
        "elif (prediction[0] == 0):\n",
        "  print('The patient does not have Parkinson')\n",
        "else:\n",
        "  print('Some error in processing')"
      ],
      "execution_count": null,
      "outputs": [
        {
          "output_type": "stream",
          "name": "stdout",
          "text": [
            "[0]\n",
            "The patient does not have Parkinson\n"
          ]
        }
      ]
    },
    {
      "cell_type": "markdown",
      "metadata": {
        "id": "ZT9ZJ0w6AqFY"
      },
      "source": [
        "## Extracting the ML Model"
      ]
    },
    {
      "cell_type": "markdown",
      "metadata": {
        "id": "7uLUJ7XTAtt_"
      },
      "source": [
        "#### Using Pickle"
      ]
    },
    {
      "cell_type": "code",
      "metadata": {
        "id": "tmTPuXpw--z6"
      },
      "source": [
        "import pickle"
      ],
      "execution_count": null,
      "outputs": []
    },
    {
      "cell_type": "code",
      "metadata": {
        "id": "De8Fj-nn_Of-"
      },
      "source": [
        "with open('model_pickle','wb') as f:\n",
        "  pickle.dump(model,f)"
      ],
      "execution_count": null,
      "outputs": []
    },
    {
      "cell_type": "code",
      "metadata": {
        "id": "K17LuwGj_frG"
      },
      "source": [
        "with open('model_pickle','rb') as f:\n",
        "  mp = pickle.load(f) #loading the made model"
      ],
      "execution_count": null,
      "outputs": []
    },
    {
      "cell_type": "markdown",
      "metadata": {
        "id": "umYOXArcBgum"
      },
      "source": [
        "#### Testing the working of model "
      ]
    },
    {
      "cell_type": "code",
      "metadata": {
        "colab": {
          "base_uri": "https://localhost:8080/"
        },
        "id": "D2Mi9ZL-AHK6",
        "outputId": "dd6d896e-a5e9-47b4-d9ca-905001049ce2"
      },
      "source": [
        "input_data = (95.730,132.068,91.754,0.00551,0.00006,0.00293,0.00332,0.00880,0.02093,0.191,0.01073,0.01277,0.01717,0.03218,0.01070,21.812,0.615551,0.773587,-5.498678,0.327769,2.322511,0.231571)\n",
        "input_data_numpy = np.asarray(input_data)\n",
        "\n",
        "#reshaping the numpy array \n",
        "input_data_reshape = input_data_numpy.reshape(1,-1)\n",
        "\n",
        "#standardizing the input data \n",
        "std_data = scaler.transform(input_data_reshape)\n",
        "\n",
        "## prediction\n",
        "prediction = mp.predict(std_data) #model made using Pickle\n",
        "print(prediction)"
      ],
      "execution_count": null,
      "outputs": [
        {
          "output_type": "stream",
          "name": "stdout",
          "text": [
            "[1]\n"
          ]
        }
      ]
    },
    {
      "cell_type": "markdown",
      "metadata": {
        "id": "GIkNjiHsAxsr"
      },
      "source": [
        "#### Using Sklearn Joblib"
      ]
    },
    {
      "cell_type": "code",
      "metadata": {
        "colab": {
          "base_uri": "https://localhost:8080/"
        },
        "id": "aXSTq1JxAzpz",
        "outputId": "dde79d6d-287e-44e6-dec8-9218cb465c11"
      },
      "source": [
        "from sklearn.externals import joblib"
      ],
      "execution_count": null,
      "outputs": [
        {
          "output_type": "stream",
          "name": "stderr",
          "text": [
            "/usr/local/lib/python3.7/dist-packages/sklearn/externals/joblib/__init__.py:15: FutureWarning: sklearn.externals.joblib is deprecated in 0.21 and will be removed in 0.23. Please import this functionality directly from joblib, which can be installed with: pip install joblib. If this warning is raised when loading pickled models, you may need to re-serialize those models with scikit-learn 0.21+.\n",
            "  warnings.warn(msg, category=FutureWarning)\n"
          ]
        }
      ]
    },
    {
      "cell_type": "code",
      "metadata": {
        "colab": {
          "base_uri": "https://localhost:8080/"
        },
        "id": "yPHDUPcxA-bc",
        "outputId": "3a0cb5a6-f1de-4111-c45e-541c171b1c33"
      },
      "source": [
        "joblib.dump(model,'model-joblib')"
      ],
      "execution_count": null,
      "outputs": [
        {
          "output_type": "execute_result",
          "data": {
            "text/plain": [
              "['model-joblib']"
            ]
          },
          "metadata": {},
          "execution_count": 45
        }
      ]
    },
    {
      "cell_type": "code",
      "metadata": {
        "id": "emfjOPrkBJ95"
      },
      "source": [
        "mj = joblib.load('model-joblib') #loading the model"
      ],
      "execution_count": null,
      "outputs": []
    },
    {
      "cell_type": "markdown",
      "metadata": {
        "id": "GdQfUrHKBmUS"
      },
      "source": [
        "#### Testing the working of model"
      ]
    },
    {
      "cell_type": "code",
      "metadata": {
        "colab": {
          "base_uri": "https://localhost:8080/"
        },
        "id": "o6PDPloQBRtw",
        "outputId": "8143cc01-c787-4dff-845a-fcd0b206ea01"
      },
      "source": [
        "input_data = (95.730,132.068,91.754,0.00551,0.00006,0.00293,0.00332,0.00880,0.02093,0.191,0.01073,0.01277,0.01717,0.03218,0.01070,21.812,0.615551,0.773587,-5.498678,0.327769,2.322511,0.231571)\n",
        "input_data_numpy = np.asarray(input_data)\n",
        "\n",
        "#reshaping the numpy array \n",
        "input_data_reshape = input_data_numpy.reshape(1,-1)\n",
        "\n",
        "#standardizing the input data \n",
        "std_data = scaler.transform(input_data_reshape)\n",
        "\n",
        "## prediction\n",
        "prediction = mj.predict(std_data)  #model made using joblib\n",
        "print(prediction)"
      ],
      "execution_count": null,
      "outputs": [
        {
          "output_type": "stream",
          "name": "stdout",
          "text": [
            "[1]\n"
          ]
        }
      ]
    }
  ]
}